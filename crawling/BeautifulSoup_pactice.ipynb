{
 "cells": [
  {
   "cell_type": "markdown",
   "id": "558f4dcd-e21e-4157-acd3-418953967681",
   "metadata": {},
   "source": [
    "# BeautifulSoup 실습\n",
    "- 이수안컴퓨터연구소채널:BeautifulSoup 기초 끝내기 - 강력한 웹 데이터 스크래핑 연습\n",
    "- https://youtu.be/TbPD9Ndnt04 "
   ]
  },
  {
   "cell_type": "markdown",
   "id": "4088c9a1-0876-4990-b7aa-4fd317ff3c2f",
   "metadata": {},
   "source": [
    "---"
   ]
  },
  {
   "cell_type": "markdown",
   "id": "dc421165-927d-4655-9e4e-9518254ef153",
   "metadata": {},
   "source": [
    "- 먼저 매직명령어로 예제 html파일을 하나 만들어준다"
   ]
  },
  {
   "cell_type": "code",
   "execution_count": 2,
   "id": "465ae36d-e5e6-41ee-ba3e-c5f910bb1f69",
   "metadata": {},
   "outputs": [
    {
     "name": "stdout",
     "output_type": "stream",
     "text": [
      "Overwriting example.html\n"
     ]
    }
   ],
   "source": [
    "%%writefile example.html\n",
    "<!DOCTYPE html>\n",
    "<html>\n",
    "    <head>\n",
    "         <title>Page Title</title>\n",
    "     </head>\n",
    "     <body>\n",
    "         <h1>Heading 1</h1>\n",
    "         <p>Paragraph</p>\n",
    "         <div>\n",
    "             <a href=\"www.google.com\">google</a>\n",
    "        </div>\n",
    "        <div class=\"class1\">\n",
    "            <p>a</p>\n",
    "            <a href=\"www.naver.com\">naver</a>\n",
    "            <p>b</p>\n",
    "            <p>c</p>\n",
    "        </div>\n",
    "        <div id=\"id1\">\n",
    "            Example page\n",
    "            <p>g</p>\n",
    "        </div>\n",
    "    </body>\n",
    "</html>"
   ]
  },
  {
   "cell_type": "code",
   "execution_count": 18,
   "id": "951a97f3-c908-4439-bcb8-76cd2a2f5e84",
   "metadata": {},
   "outputs": [
    {
     "data": {
      "text/plain": [
       "<!DOCTYPE html>\n",
       "\n",
       "<html>\n",
       "<head>\n",
       "<title>Page Title</title>\n",
       "</head>\n",
       "<body>\n",
       "<h1>Heading 1</h1>\n",
       "<p>Paragraph</p>\n",
       "<div>\n",
       "<a href=\"www.google.com\">google</a>\n",
       "</div>\n",
       "<div class=\"class1\">\n",
       "<p>a</p>\n",
       "<a href=\"www.naver.com\">naver</a>\n",
       "<p>b</p>\n",
       "<p>c</p>\n",
       "</div>\n",
       "<div id=\"id1\">\n",
       "            Example page\n",
       "            <p>g</p>\n",
       "</div>\n",
       "</body>\n",
       "</html>"
      ]
     },
     "execution_count": 18,
     "metadata": {},
     "output_type": "execute_result"
    }
   ],
   "source": [
    "from bs4 import BeautifulSoup\n",
    "import urllib.request\n",
    "\n",
    "with open(\"example.html\") as fp:\n",
    "    soup = BeautifulSoup(fp, 'html.parser')\n",
    "\n",
    "soup"
   ]
  },
  {
   "cell_type": "code",
   "execution_count": 19,
   "id": "3ad4209f-86e7-426d-8862-c033e64ac03f",
   "metadata": {},
   "outputs": [
    {
     "data": {
      "text/plain": [
       "<title>Page Title</title>"
      ]
     },
     "execution_count": 19,
     "metadata": {},
     "output_type": "execute_result"
    }
   ],
   "source": [
    "soup.title"
   ]
  },
  {
   "cell_type": "code",
   "execution_count": 20,
   "id": "138a7745-160f-4f49-9d7e-8d3bd3bf5841",
   "metadata": {},
   "outputs": [
    {
     "data": {
      "text/plain": [
       "'title'"
      ]
     },
     "execution_count": 20,
     "metadata": {},
     "output_type": "execute_result"
    }
   ],
   "source": [
    "soup.title.name"
   ]
  },
  {
   "cell_type": "code",
   "execution_count": 21,
   "id": "782068bb-65a1-4c5e-9266-eb757a3119a7",
   "metadata": {},
   "outputs": [
    {
     "data": {
      "text/plain": [
       "'Page Title'"
      ]
     },
     "execution_count": 21,
     "metadata": {},
     "output_type": "execute_result"
    }
   ],
   "source": [
    "soup.title.string"
   ]
  },
  {
   "cell_type": "code",
   "execution_count": 22,
   "id": "5f555747-835d-471f-8a17-29be12251a8e",
   "metadata": {},
   "outputs": [
    {
     "data": {
      "text/plain": [
       "<head>\n",
       "<title>Page Title</title>\n",
       "</head>"
      ]
     },
     "execution_count": 22,
     "metadata": {},
     "output_type": "execute_result"
    }
   ],
   "source": [
    "soup.title.parent"
   ]
  },
  {
   "cell_type": "code",
   "execution_count": 23,
   "id": "b2086b90-c1ca-44a6-bd06-1de8fe7937cc",
   "metadata": {},
   "outputs": [
    {
     "data": {
      "text/plain": [
       "'head'"
      ]
     },
     "execution_count": 23,
     "metadata": {},
     "output_type": "execute_result"
    }
   ],
   "source": [
    "soup.title.parent.name"
   ]
  },
  {
   "cell_type": "code",
   "execution_count": 29,
   "id": "4e5d5db9-6234-4f54-988c-bbc75450171b",
   "metadata": {},
   "outputs": [
    {
     "data": {
      "text/plain": [
       "<a href=\"www.google.com\">google</a>"
      ]
     },
     "execution_count": 29,
     "metadata": {},
     "output_type": "execute_result"
    }
   ],
   "source": [
    "soup.a"
   ]
  },
  {
   "cell_type": "markdown",
   "id": "e796d8c0-f716-406d-b5d6-31aacbaf84af",
   "metadata": {},
   "source": [
    "- `find()`: 해당 조건에 맞는 하나의 태그를 가져옴\n",
    "- `find_all()`: 해당 조건에 맞는 모든 태그를 가져옴\n",
    "- `select()`: CSS 선택자와 같은 형식으로 선택 가능"
   ]
  },
  {
   "cell_type": "code",
   "execution_count": 30,
   "id": "349fb695-fbf5-43b1-9cd3-9fbc82cf28c1",
   "metadata": {},
   "outputs": [
    {
     "data": {
      "text/plain": [
       "[]"
      ]
     },
     "execution_count": 30,
     "metadata": {},
     "output_type": "execute_result"
    }
   ],
   "source": [
    "soup.a.find_all()"
   ]
  },
  {
   "cell_type": "code",
   "execution_count": 31,
   "id": "e533f272-501e-4b80-b008-953db4b8c322",
   "metadata": {},
   "outputs": [
    {
     "data": {
      "text/plain": [
       "[<a href=\"www.google.com\">google</a>, <a href=\"www.naver.com\">naver</a>]"
      ]
     },
     "execution_count": 31,
     "metadata": {},
     "output_type": "execute_result"
    }
   ],
   "source": [
    "soup.find_all('a')"
   ]
  },
  {
   "cell_type": "code",
   "execution_count": 32,
   "id": "08e3c456-36bd-4ffc-bbd8-d6e65874cfcb",
   "metadata": {},
   "outputs": [
    {
     "data": {
      "text/plain": [
       "[<p>Paragraph</p>, <p>a</p>, <p>b</p>, <p>c</p>, <p>g</p>]"
      ]
     },
     "execution_count": 32,
     "metadata": {},
     "output_type": "execute_result"
    }
   ],
   "source": [
    "soup.find_all('p')"
   ]
  },
  {
   "cell_type": "code",
   "execution_count": 39,
   "id": "efe9251b-5d6e-4c03-bb01-8059ce0312a5",
   "metadata": {},
   "outputs": [
    {
     "data": {
      "text/plain": [
       "[<p>Paragraph</p>,\n",
       " <a href=\"www.google.com\">google</a>,\n",
       " <p>a</p>,\n",
       " <a href=\"www.naver.com\">naver</a>,\n",
       " <p>b</p>,\n",
       " <p>c</p>,\n",
       " <p>g</p>]"
      ]
     },
     "execution_count": 39,
     "metadata": {},
     "output_type": "execute_result"
    }
   ],
   "source": [
    "soup.find_all(['a','p'])\n"
   ]
  },
  {
   "cell_type": "code",
   "execution_count": 41,
   "id": "cae0856d-3f6d-41dd-b504-950d4f9a7561",
   "metadata": {},
   "outputs": [
    {
     "data": {
      "text/plain": [
       "<!DOCTYPE html>\n",
       "\n",
       "<html>\n",
       "<head>\n",
       "<title>Page Title</title>\n",
       "</head>\n",
       "<body>\n",
       "<h1>Heading 1</h1>\n",
       "<p>Paragraph</p>\n",
       "<div>\n",
       "<a href=\"www.google.com\">google</a>\n",
       "</div>\n",
       "<div class=\"class1\">\n",
       "<p>a</p>\n",
       "<a href=\"www.naver.com\">naver</a>\n",
       "<p>b</p>\n",
       "<p>c</p>\n",
       "</div>\n",
       "<div id=\"id1\">\n",
       "            Example page\n",
       "            <p>g</p>\n",
       "</div>\n",
       "</body>\n",
       "</html>"
      ]
     },
     "execution_count": 41,
     "metadata": {},
     "output_type": "execute_result"
    }
   ],
   "source": [
    "soup"
   ]
  },
  {
   "cell_type": "code",
   "execution_count": 45,
   "id": "e03699b3-c689-46f9-ad08-dbd22bd7f10b",
   "metadata": {},
   "outputs": [
    {
     "data": {
      "text/plain": [
       "[<div>\n",
       " <a href=\"www.google.com\">google</a>\n",
       " </div>,\n",
       " <div class=\"class1\">\n",
       " <p>a</p>\n",
       " <a href=\"www.naver.com\">naver</a>\n",
       " <p>b</p>\n",
       " <p>c</p>\n",
       " </div>,\n",
       " <div id=\"id1\">\n",
       "             Example page\n",
       "             <p>g</p>\n",
       " </div>]"
      ]
     },
     "execution_count": 45,
     "metadata": {},
     "output_type": "execute_result"
    }
   ],
   "source": [
    "soup.find_all('div') # 리스트 형태로 준다."
   ]
  },
  {
   "cell_type": "markdown",
   "id": "1f715537-c834-427d-a746-b4e918d57bd0",
   "metadata": {},
   "source": [
    "---"
   ]
  },
  {
   "cell_type": "markdown",
   "id": "c3882b46-9da4-4e84-8d6d-4f9d2427239d",
   "metadata": {},
   "source": [
    "- `find_all()`: 하나를 출력하더라도 리스트형태로 값을 준다.\n",
    "- `div`태그에서 `id`가 `id1`인 것을 출력"
   ]
  },
  {
   "cell_type": "code",
   "execution_count": 46,
   "id": "d4678957-3aad-4e21-b20c-8f1a73e598b9",
   "metadata": {},
   "outputs": [
    {
     "data": {
      "text/plain": [
       "[<div id=\"id1\">\n",
       "             Example page\n",
       "             <p>g</p>\n",
       " </div>]"
      ]
     },
     "execution_count": 46,
     "metadata": {},
     "output_type": "execute_result"
    }
   ],
   "source": [
    "soup.find_all('div', {'id':'id1'})"
   ]
  },
  {
   "cell_type": "code",
   "execution_count": 48,
   "id": "2387182e-f264-4ac3-8965-6414c2952ca7",
   "metadata": {},
   "outputs": [
    {
     "data": {
      "text/plain": [
       "[<div class=\"class1\">\n",
       " <p>a</p>\n",
       " <a href=\"www.naver.com\">naver</a>\n",
       " <p>b</p>\n",
       " <p>c</p>\n",
       " </div>]"
      ]
     },
     "execution_count": 48,
     "metadata": {},
     "output_type": "execute_result"
    }
   ],
   "source": [
    "soup.find_all('div', {'class': 'class1'})"
   ]
  },
  {
   "cell_type": "markdown",
   "id": "2bc6a854-049b-4e6e-ae02-6464a5eb957a",
   "metadata": {},
   "source": [
    "- 특정 태그에서 속성값을 가져오기"
   ]
  },
  {
   "cell_type": "code",
   "execution_count": 49,
   "id": "ceb5fdcd-6806-4770-8d25-e260f0ed75c2",
   "metadata": {},
   "outputs": [
    {
     "data": {
      "text/plain": [
       "'www.google.com'"
      ]
     },
     "execution_count": 49,
     "metadata": {},
     "output_type": "execute_result"
    }
   ],
   "source": [
    "soup.find('a').get('href')"
   ]
  },
  {
   "cell_type": "markdown",
   "id": "c8ce1572-c9d9-4962-93ce-9ebe166b1fff",
   "metadata": {},
   "source": [
    "- 특정 태그에서 화면에 포시되는 텍스트만 가져오기"
   ]
  },
  {
   "cell_type": "code",
   "execution_count": 52,
   "id": "31225d76-455b-45ca-ad68-0e9745e3e09e",
   "metadata": {},
   "outputs": [
    {
     "data": {
      "text/plain": [
       "'google'"
      ]
     },
     "execution_count": 52,
     "metadata": {},
     "output_type": "execute_result"
    }
   ],
   "source": [
    "soup.find('a').get_text()"
   ]
  },
  {
   "cell_type": "markdown",
   "id": "f23138cb-7e73-4a50-9fdf-1510b9c66658",
   "metadata": {},
   "source": [
    "- 여러 a 태그에서 속성값만 가져오기"
   ]
  },
  {
   "cell_type": "code",
   "execution_count": 53,
   "id": "06920b5c-7207-435c-abfc-1ca4e7668cb5",
   "metadata": {},
   "outputs": [
    {
     "name": "stdout",
     "output_type": "stream",
     "text": [
      "www.google.com\n",
      "www.naver.com\n"
     ]
    }
   ],
   "source": [
    "site_name = soup.find_all('a')\n",
    "for name in site_name:\n",
    "    print(name.get('href'))"
   ]
  },
  {
   "cell_type": "code",
   "execution_count": 54,
   "id": "59c063e9-393b-48a5-a819-0af9506bc814",
   "metadata": {},
   "outputs": [
    {
     "name": "stdout",
     "output_type": "stream",
     "text": [
      "naver\n"
     ]
    }
   ],
   "source": [
    "print(name.get_text())"
   ]
  },
  {
   "cell_type": "code",
   "execution_count": 55,
   "id": "ce999cc4-d256-4e17-9a5a-de242f2f4fec",
   "metadata": {},
   "outputs": [
    {
     "name": "stdout",
     "output_type": "stream",
     "text": [
      "google\n",
      "naver\n"
     ]
    }
   ],
   "source": [
    "for name in site_name:\n",
    "    print(name.get_text())"
   ]
  },
  {
   "cell_type": "markdown",
   "id": "06ceb1c6-362a-41eb-864f-476cc6c7e01c",
   "metadata": {},
   "source": [
    "### select는 선택된 모든것을 가져온다 그래서 리스트로 가져온다\n",
    "- CSS 처럼 `id`를 가져올때는 `#id#` 클래스는 `.class`"
   ]
  },
  {
   "cell_type": "code",
   "execution_count": 56,
   "id": "6a7c70b4-29fe-44f5-a00a-411a4b612bd3",
   "metadata": {},
   "outputs": [
    {
     "data": {
      "text/plain": [
       "[<div id=\"id1\">\n",
       "             Example page\n",
       "             <p>g</p>\n",
       " </div>]"
      ]
     },
     "execution_count": 56,
     "metadata": {},
     "output_type": "execute_result"
    }
   ],
   "source": [
    "soup.select('div#id1')"
   ]
  },
  {
   "cell_type": "code",
   "execution_count": 57,
   "id": "39f9f892-ac47-4606-9dc1-42e835731502",
   "metadata": {},
   "outputs": [
    {
     "data": {
      "text/plain": [
       "[<div class=\"class1\">\n",
       " <p>a</p>\n",
       " <a href=\"www.naver.com\">naver</a>\n",
       " <p>b</p>\n",
       " <p>c</p>\n",
       " </div>]"
      ]
     },
     "execution_count": 57,
     "metadata": {},
     "output_type": "execute_result"
    }
   ],
   "source": [
    "soup.select('div.class1')"
   ]
  },
  {
   "cell_type": "markdown",
   "id": "ff5a9327-9dcb-4337-a4db-f645115bd5fe",
   "metadata": {},
   "source": [
    "- class1 안에 특정 태그만 가져오기\n",
    "- `.class1`하고 한칸 띄고 가져오고 싶은 태그작성"
   ]
  },
  {
   "cell_type": "code",
   "execution_count": 58,
   "id": "8c289ea6-c48b-4155-b839-d64cc84165fc",
   "metadata": {},
   "outputs": [
    {
     "data": {
      "text/plain": [
       "[<a href=\"www.naver.com\">naver</a>]"
      ]
     },
     "execution_count": 58,
     "metadata": {},
     "output_type": "execute_result"
    }
   ],
   "source": [
    "soup.select('div.class1 a')"
   ]
  },
  {
   "cell_type": "markdown",
   "id": "8898b774-e37a-4ba5-8e90-7982b29081e7",
   "metadata": {},
   "source": [
    "# 인터넷 웹페이지 가져오기"
   ]
  },
  {
   "cell_type": "code",
   "execution_count": 63,
   "id": "fbe1be8f-8322-443f-b926-9e3881790f72",
   "metadata": {
    "scrolled": true
   },
   "outputs": [],
   "source": [
    "url = \"http://suanlab.com\"\n",
    "html = urllib.request.urlopen(url).read()\n",
    "soup = BeautifulSoup(html, 'html.parser')"
   ]
  },
  {
   "cell_type": "code",
   "execution_count": 64,
   "id": "bc295925-6915-43aa-8c87-70cae53b1a78",
   "metadata": {},
   "outputs": [
    {
     "data": {
      "text/plain": [
       "[<label>[2022-12-02] KJDB2022 Workshop</label>,\n",
       " <label>[2020-01-20] \"바이러스 연구부터 뷰티·배달 AI 결합한 비즈니스...\"</label>,\n",
       " <label>[2020-10-07] \"이력서 작성·레시피 제공 다양하게 활용되는 GPT3\"</label>,\n",
       " <label>[2020-05-20] \"인공지능의 보안 위협\"</label>,\n",
       " <label>[2020-03-04] \"데이터 경제 시대\"</label>,\n",
       " <label>[2019-12-25] \"마이데이터 시대의 도래 데이터 주권과 새로운 가치\"</label>,\n",
       " <label>[2019-09-04] \"농업으로 들어간 인공지능\"</label>,\n",
       " <label>[2019-08-07] \"AI시대 지배할 것인가 지배당하며 살 것인가\"</label>]"
      ]
     },
     "execution_count": 64,
     "metadata": {},
     "output_type": "execute_result"
    }
   ],
   "source": [
    "labels = soup.find_all(['label'])"
   ]
  },
  {
   "cell_type": "code",
   "execution_count": 65,
   "id": "3425712f-425d-44d2-8db2-8df58fbc4504",
   "metadata": {},
   "outputs": [
    {
     "name": "stdout",
     "output_type": "stream",
     "text": [
      "[2022-12-02] KJDB2022 Workshop\n",
      "[2020-01-20] \"바이러스 연구부터 뷰티·배달 AI 결합한 비즈니스...\"\n",
      "[2020-10-07] \"이력서 작성·레시피 제공 다양하게 활용되는 GPT3\"\n",
      "[2020-05-20] \"인공지능의 보안 위협\"\n",
      "[2020-03-04] \"데이터 경제 시대\"\n",
      "[2019-12-25] \"마이데이터 시대의 도래 데이터 주권과 새로운 가치\"\n",
      "[2019-09-04] \"농업으로 들어간 인공지능\"\n",
      "[2019-08-07] \"AI시대 지배할 것인가 지배당하며 살 것인가\"\n"
     ]
    }
   ],
   "source": [
    "for label in labels:\n",
    "    print(label.get_text())"
   ]
  },
  {
   "cell_type": "markdown",
   "id": "ec5cdc70-f9be-44c8-ba9e-f15644d66e60",
   "metadata": {},
   "source": [
    "- 위에처럼 select안에 태그를 써버리면 html파일에 있는 모든 태그의 내용을 불러오기 때문에.\n",
    "- F12눌러서 크롤링하고싶은곳을찾고\n",
    "- 그곳에 태그에서 마우스 우클릭\n",
    "- copy- copy selecter 선택후 복사하고\n",
    "- 혹시 1개만 가져오는 태그가 있으면 삭제후 크롤링"
   ]
  },
  {
   "cell_type": "code",
   "execution_count": 67,
   "id": "1514db69-1940-45f1-b36a-d6f43247c6db",
   "metadata": {},
   "outputs": [
    {
     "name": "stdout",
     "output_type": "stream",
     "text": [
      "[2022-12-02] KJDB2022 Workshop\n",
      "[2020-01-20] \"바이러스 연구부터 뷰티·배달 AI 결합한 비즈니스...\"\n",
      "[2020-10-07] \"이력서 작성·레시피 제공 다양하게 활용되는 GPT3\"\n",
      "[2020-05-20] \"인공지능의 보안 위협\"\n",
      "[2020-03-04] \"데이터 경제 시대\"\n",
      "[2019-12-25] \"마이데이터 시대의 도래 데이터 주권과 새로운 가치\"\n",
      "[2019-09-04] \"농업으로 들어간 인공지능\"\n",
      "[2019-08-07] \"AI시대 지배할 것인가 지배당하며 살 것인가\"\n"
     ]
    }
   ],
   "source": [
    "labels = soup.select('#wrapper > section > div > div > div > div > div > label')\n",
    "for label in labels:\n",
    "    print(label.get_text())"
   ]
  },
  {
   "cell_type": "code",
   "execution_count": null,
   "id": "84479a28-cce9-4822-bea0-9bdf0035186b",
   "metadata": {},
   "outputs": [],
   "source": []
  },
  {
   "cell_type": "code",
   "execution_count": null,
   "id": "303243d1-e0ca-4092-b0c5-69dca28321ec",
   "metadata": {},
   "outputs": [],
   "source": []
  },
  {
   "cell_type": "code",
   "execution_count": null,
   "id": "2a14a38e-e36f-4e37-b738-6788640e9694",
   "metadata": {},
   "outputs": [],
   "source": []
  },
  {
   "cell_type": "code",
   "execution_count": null,
   "id": "cac3358e-3fda-4903-b137-41cabd49d341",
   "metadata": {},
   "outputs": [],
   "source": []
  },
  {
   "cell_type": "code",
   "execution_count": null,
   "id": "678896a7-1e1c-4826-889a-5fe10ed5a55e",
   "metadata": {},
   "outputs": [],
   "source": []
  },
  {
   "cell_type": "code",
   "execution_count": null,
   "id": "aa915e99-47b6-40ea-91d8-85be96b14bb8",
   "metadata": {},
   "outputs": [],
   "source": []
  },
  {
   "cell_type": "code",
   "execution_count": null,
   "id": "d2a0b13a-2808-4d3d-808f-23a0d5da60d9",
   "metadata": {},
   "outputs": [],
   "source": []
  },
  {
   "cell_type": "code",
   "execution_count": null,
   "id": "f7f70e39-defd-4896-9bbc-8ad5e791033d",
   "metadata": {},
   "outputs": [],
   "source": []
  },
  {
   "cell_type": "code",
   "execution_count": null,
   "id": "b37855eb-4613-4e89-a357-87eefe7cdc20",
   "metadata": {},
   "outputs": [],
   "source": []
  },
  {
   "cell_type": "code",
   "execution_count": null,
   "id": "b23bcd41-3d79-45e8-a88f-740a1437a0df",
   "metadata": {},
   "outputs": [],
   "source": []
  },
  {
   "cell_type": "code",
   "execution_count": null,
   "id": "78e1c9ee-f258-42f5-98a3-ee3d42b0b512",
   "metadata": {},
   "outputs": [],
   "source": []
  },
  {
   "cell_type": "code",
   "execution_count": null,
   "id": "55097d2e-06be-47ec-8fae-362c0b926a23",
   "metadata": {},
   "outputs": [],
   "source": []
  },
  {
   "cell_type": "code",
   "execution_count": null,
   "id": "95a2608d-c6f5-4618-8f80-c80184da20d9",
   "metadata": {},
   "outputs": [],
   "source": []
  },
  {
   "cell_type": "code",
   "execution_count": null,
   "id": "7cba717c-ad33-48a2-9b82-67d8004a96d8",
   "metadata": {},
   "outputs": [],
   "source": []
  },
  {
   "cell_type": "code",
   "execution_count": null,
   "id": "690c998f-9745-4534-bb24-4ca142de1b34",
   "metadata": {},
   "outputs": [],
   "source": []
  },
  {
   "cell_type": "code",
   "execution_count": null,
   "id": "d0cf71a3-27a7-4353-9818-7773bd244159",
   "metadata": {},
   "outputs": [],
   "source": []
  },
  {
   "cell_type": "code",
   "execution_count": null,
   "id": "741b86c0-e7cf-4540-93c9-f58e939420a2",
   "metadata": {},
   "outputs": [],
   "source": []
  },
  {
   "cell_type": "code",
   "execution_count": null,
   "id": "32a0f82c-5b80-4031-ab52-041e482995a0",
   "metadata": {},
   "outputs": [],
   "source": []
  }
 ],
 "metadata": {
  "kernelspec": {
   "display_name": "Python 3 (ipykernel)",
   "language": "python",
   "name": "python3"
  },
  "language_info": {
   "codemirror_mode": {
    "name": "ipython",
    "version": 3
   },
   "file_extension": ".py",
   "mimetype": "text/x-python",
   "name": "python",
   "nbconvert_exporter": "python",
   "pygments_lexer": "ipython3",
   "version": "3.11.4"
  }
 },
 "nbformat": 4,
 "nbformat_minor": 5
}
