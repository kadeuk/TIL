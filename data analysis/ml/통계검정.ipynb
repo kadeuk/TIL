{
 "cells": [
  {
   "cell_type": "markdown",
   "id": "8ef6bf9d-9818-45cc-9581-c9633bd41518",
   "metadata": {},
   "source": [
    "# 기초통계 검정 방법론\n",
    "- 모수통계\n",
    "  - A 통계검정 방법론(가정1, 가정2, 가정3 모두 충족할때)\n",
    "- 비모수 통계 (= 모수가 아닌 통계)"
   ]
  },
  {
   "cell_type": "markdown",
   "id": "569628aa-a5dd-4947-8a27-ec550a70ea3c",
   "metadata": {},
   "source": [
    "# 베이지안 통계 vs 모수 통계\n",
    "- 모수 통계 : 평균에 기반한 통계 검정\n",
    "- 베이지안 통계 : 확률에 기반한 통계 검정\n"
   ]
  },
  {
   "cell_type": "markdown",
   "id": "a4a01b3f-43c1-4bad-9830-a1df650f0bc6",
   "metadata": {},
   "source": [
    "# t - test\n",
    "- 평균의 비교\n",
    "# z-test \n",
    "- 실무에서 정말 쓸모없는 test\n",
    "- 전제조건: 모집단의 편균과 표준편차를 알아야 함\n",
    "- 가설검정 에 쓰이는게 z-test인데 어짜피 모집단의 평균을 알기 때문에 실무에서는 쓸모없고 추출된 표본이 동일 모집단에 실제로 속하는지 검증할때는 쓰인다.\n",
    "  - 귀무가설 : 표본 평균이 모집단의 평균과 같음\n",
    "  - 대립가설 : 표폰 평균이 모집단의 평균과 같지 않음"
   ]
  },
  {
   "cell_type": "markdown",
   "id": "e77c249b-0251-48f1-9eef-6dcf32cce962",
   "metadata": {},
   "source": [
    "# 예제\n",
    "- 모집단의 평균과 표준편차를 알고 있음\n",
    "  - 평균 : 67.5 (심리학 점수)\n",
    "  - 표준편차 : 9.5"
   ]
  },
  {
   "cell_type": "code",
   "execution_count": 1,
   "id": "61c29b61-2097-46e9-850c-3e31168b7b5f",
   "metadata": {},
   "outputs": [
    {
     "data": {
      "text/html": [
       "<div>\n",
       "<style scoped>\n",
       "    .dataframe tbody tr th:only-of-type {\n",
       "        vertical-align: middle;\n",
       "    }\n",
       "\n",
       "    .dataframe tbody tr th {\n",
       "        vertical-align: top;\n",
       "    }\n",
       "\n",
       "    .dataframe thead th {\n",
       "        text-align: right;\n",
       "    }\n",
       "</style>\n",
       "<table border=\"1\" class=\"dataframe\">\n",
       "  <thead>\n",
       "    <tr style=\"text-align: right;\">\n",
       "      <th></th>\n",
       "      <th>grades</th>\n",
       "    </tr>\n",
       "  </thead>\n",
       "  <tbody>\n",
       "    <tr>\n",
       "      <th>0</th>\n",
       "      <td>50</td>\n",
       "    </tr>\n",
       "    <tr>\n",
       "      <th>1</th>\n",
       "      <td>60</td>\n",
       "    </tr>\n",
       "    <tr>\n",
       "      <th>2</th>\n",
       "      <td>60</td>\n",
       "    </tr>\n",
       "    <tr>\n",
       "      <th>3</th>\n",
       "      <td>64</td>\n",
       "    </tr>\n",
       "    <tr>\n",
       "      <th>4</th>\n",
       "      <td>66</td>\n",
       "    </tr>\n",
       "  </tbody>\n",
       "</table>\n",
       "</div>"
      ],
      "text/plain": [
       "   grades\n",
       "0      50\n",
       "1      60\n",
       "2      60\n",
       "3      64\n",
       "4      66"
      ]
     },
     "execution_count": 1,
     "metadata": {},
     "output_type": "execute_result"
    }
   ],
   "source": [
    "import pandas as pd\n",
    "df = pd.read_csv(\"https://raw.githubusercontent.com/ethanweed/pythonbook/main/Data/zeppo.csv\")\n",
    "df.head()"
   ]
  },
  {
   "cell_type": "code",
   "execution_count": 2,
   "id": "a8b12974-0d7b-4ea4-a7ef-75519c6c947d",
   "metadata": {},
   "outputs": [
    {
     "data": {
      "text/plain": [
       "(50, 89)"
      ]
     },
     "execution_count": 2,
     "metadata": {},
     "output_type": "execute_result"
    }
   ],
   "source": [
    "df['grades'].min(), df['grades'].max()"
   ]
  },
  {
   "cell_type": "markdown",
   "id": "e79468a5-49d1-47d5-9417-54a463ec6b38",
   "metadata": {},
   "source": [
    "# 시각화\n",
    "- 평균이 67.5, 표준편차가 9.5인 그래프 작성\n",
    "- 모집단의 수는 100개로 가정\n",
    "- 히스토그램이 의미하는 것은 20개의 샘플을 추출"
   ]
  },
  {
   "cell_type": "code",
   "execution_count": 3,
   "id": "217c327b-f823-402f-b75a-41b7f0245cbc",
   "metadata": {},
   "outputs": [],
   "source": [
    "import matplotlib.pyplot as plt\n",
    "import numpy as np\n",
    "import seaborn as sns\n",
    "import scipy.stats as stats"
   ]
  },
  {
   "cell_type": "code",
   "execution_count": 7,
   "id": "5d4639a1-2f5e-4dca-a60d-4ee7774f9d7f",
   "metadata": {},
   "outputs": [
    {
     "data": {
      "image/png": "[encoded data removed]",
      "text/plain": [
       "<Figure size 640x480 with 1 Axes>"
      ]
     },
     "metadata": {},
     "output_type": "display_data"
    }
   ],
   "source": [
    "mu = 67.5\n",
    "sigma = 9.5\n",
    "\n",
    "# 정규분포를 만들기 위한 코드\n",
    "x = np.linspace(mu - 3 * sigma, mu + 3 * sigma, 100)\n",
    "y = 100 * stats.norm.pdf(x, mu, sigma)\n",
    "\n",
    "fig , ax = plt.subplots()\n",
    "ax1 = sns.histplot(df['grades'])\n",
    "ax2 = sns.lineplot(x = x , y = y, color = 'black')\n",
    "\n",
    "plt.show()"
   ]
  },
  {
   "cell_type": "markdown",
   "id": "3665e2c3-e830-4d14-a8cd-8878b04914b3",
   "metadata": {},
   "source": [
    "# 가설 세우기\n",
    "- 귀무가설 : 표본샘플(N=20)의 평균은 67.5이다.\n",
    "- 대립가설 : 표본샘플(N=20)의 평균은 67.5가 아다."
   ]
  },
  {
   "cell_type": "code",
   "execution_count": 9,
   "id": "8003ae7b-71f1-432b-a4e2-00ce3767a957",
   "metadata": {},
   "outputs": [
    {
     "data": {
      "text/plain": [
       "72.3"
      ]
     },
     "execution_count": 9,
     "metadata": {},
     "output_type": "execute_result"
    }
   ],
   "source": [
    "import statistics\n",
    "statistics.mean(df['grades'])"
   ]
  },
  {
   "cell_type": "markdown",
   "id": "3d25fe21-41f8-416b-8bc7-60c9ee339265",
   "metadata": {},
   "source": [
    "- 모집단의 평균 67.5\n",
    "- 표본의 평균 72.3\n",
    "\n",
    "- 모집단의 평균과 표본의 평균의 다르다고 볼 수 있을까?\n",
    "- 우연히 샘플링 에러로 72.3이 나올수 있겠지\n",
    "- 결정을 어떻게 내릴까?\n",
    "- 중심 극한정리로 여러번 해보면 되지 않을까?"
   ]
  },
  {
   "cell_type": "markdown",
   "id": "84b6d4ab-9c0d-4860-94e2-f50e30d58144",
   "metadata": {},
   "source": [
    "# z - 통계량\n",
    "- 각 데이터 값이 평균으로부터 얼마나 떨어져 있는지를 나타내는 통계량\n",
    " - 표준화된 수치"
   ]
  },
  {
   "cell_type": "code",
   "execution_count": 10,
   "id": "064b3a27-6e67-4844-8313-c2416b8d338e",
   "metadata": {},
   "outputs": [
    {
     "data": {
      "text/plain": [
       "72.3"
      ]
     },
     "execution_count": 10,
     "metadata": {},
     "output_type": "execute_result"
    }
   ],
   "source": [
    "grades = df['grades'] # 샘플\n",
    "sample_mean = statistics.mean(grades)\n",
    "sample_mean # 샘플의 평균"
   ]
  },
  {
   "cell_type": "code",
   "execution_count": 13,
   "id": "ceb57d75-f553-49c9-8fa6-c839c65a58dc",
   "metadata": {},
   "outputs": [],
   "source": [
    "sd_true = 9.5 # 모집단과 샘플의 표준편차\n",
    "mu_null = 67.5 # 모집단의 평균\n",
    "N = len(grades)"
   ]
  },
  {
   "cell_type": "markdown",
   "id": "3409cdb2-feac-48d5-b73c-8676b9e8262b",
   "metadata": {},
   "source": [
    "# 표준오차 \n",
    "\n"
   ]
  },
  {
   "cell_type": "code",
   "execution_count": 14,
   "id": "e59bfc37-eaac-4a8a-88ce-0592229a21d5",
   "metadata": {},
   "outputs": [
    {
     "data": {
      "text/plain": [
       "2.1242645786248002"
      ]
     },
     "execution_count": 14,
     "metadata": {},
     "output_type": "execute_result"
    }
   ],
   "source": [
    "import math\n",
    "sem_true = sd_true / math.sqrt(N)\n",
    "sem_true"
   ]
  },
  {
   "cell_type": "markdown",
   "id": "4d1c3583-ea8c-4937-9d03-62ec5599d96c",
   "metadata": {},
   "source": [
    "# z_score(z 통계량)"
   ]
  },
  {
   "cell_type": "code",
   "execution_count": 17,
   "id": "fc9293cb-9cb4-4d02-8a52-df766f36e31c",
   "metadata": {},
   "outputs": [
    {
     "data": {
      "text/plain": [
       "2.259605535157681"
      ]
     },
     "execution_count": 17,
     "metadata": {},
     "output_type": "execute_result"
    }
   ],
   "source": [
    "z_score = (sample_mean -mu_null) / sem_true\n",
    "z_score"
   ]
  },
  {
   "cell_type": "code",
   "execution_count": 18,
   "id": "575423b0-1b90-4a06-9a04-a497c093f9e8",
   "metadata": {},
   "outputs": [],
   "source": [
    "from statistics import NormalDist"
   ]
  },
  {
   "cell_type": "code",
   "execution_count": 20,
   "id": "97407ea7-5234-4bcb-ac42-f93c6a6e1d5c",
   "metadata": {},
   "outputs": [
    {
     "data": {
      "text/plain": [
       "0.023845743764939753"
      ]
     },
     "execution_count": 20,
     "metadata": {},
     "output_type": "execute_result"
    }
   ],
   "source": [
    "lower_area = NormalDist().cdf(-z_score) # 평균이 0이고 표준편차가 1인 정규분포 객체 생성 cdf: 확률변수 x가 주어진 값보다 작거나 같을 확률값을 알려줌, 또 주어진 값에서 정규분포의 누적분포 함수를 계산할 때 사\n",
    "upper_area = lower_area\n",
    "p_value = lower_area + upper_area\n",
    "p_value"
   ]
  },
  {
   "cell_type": "markdown",
   "id": "6cef9b25-53ef-4ab2-a6a8-23996fd3715c",
   "metadata": {},
   "source": [
    "# 결론\n",
    "- p-value 가 0.02고 z-score가 2.22이기 때문에 귀무가설을 기각하고, 대립가설을 채택한다.\n",
    "- 대립가설: 표본샘플(N=20)의 평균은 67.5가 아니다"
   ]
  },
  {
   "cell_type": "markdown",
   "id": "fd4902d3-dd43-421d-aba7-67edbefdaa5c",
   "metadata": {},
   "source": [
    "- 실무적으로 적용\n",
    "- 감자침 과자, 총 150g 있다고 표기! 150g은 모집단의 평규"
   ]
  },
  {
   "cell_type": "markdown",
   "id": "ab402eae-c14c-46b9-ac5b-2d65ca5b5639",
   "metadata": {},
   "source": [
    "# 테스트 \n",
    "- 전제조건\n",
    "  - 전국 고등학교의 편균 국어 점수 67.5\n",
    "  - 우리 고등학교의 평균 국어 점수 72.3\n",
    "- 가설설정\n",
    "  - 귀무가설 : 전국 고등학생의 평균 국어 점수와 우리 고등학교의 편균 국어 점수는 통계적으로 유의하게 같다\n",
    "  - 대립가설 : 전국 고등학생의 평균 국어 점수와 우리 고등학교의 편균 국어 점수는 통계적으로 유의하게 같지 않다."
   ]
  },
  {
   "cell_type": "markdown",
   "id": "5d86223e-cb7e-4054-8b7b-1bd7a1991530",
   "metadata": {},
   "source": [
    "# t 통계량, p-value값 구하기\n",
    "- 매우쉽다!"
   ]
  },
  {
   "cell_type": "code",
   "execution_count": 21,
   "id": "bd802f38-a450-423f-a302-488a158ab3f5",
   "metadata": {},
   "outputs": [],
   "source": [
    "from scipy.stats import ttest_1samp"
   ]
  },
  {
   "cell_type": "code",
   "execution_count": 23,
   "id": "8212ace9-93e3-440e-aed3-54e6634c91d8",
   "metadata": {},
   "outputs": [
    {
     "data": {
      "text/plain": [
       "(2.25471286700693, 0.03614521878144544)"
      ]
     },
     "execution_count": 23,
     "metadata": {},
     "output_type": "execute_result"
    }
   ],
   "source": [
    "t_statistic, p_value = ttest_1samp(a = df['grades'], popmean=67.5)\n",
    "t_statistic, p_value"
   ]
  },
  {
   "cell_type": "code",
   "execution_count": null,
   "id": "81b61306-c80e-4f97-8317-88c0884da522",
   "metadata": {},
   "outputs": [],
   "source": []
  },
  {
   "cell_type": "code",
   "execution_count": null,
   "id": "3588fd3e-d228-4d38-8e8f-96114e31d40a",
   "metadata": {},
   "outputs": [],
   "source": []
  },
  {
   "cell_type": "code",
   "execution_count": null,
   "id": "ffb8cc0a-4b15-4e42-aa12-04b4c47d99d8",
   "metadata": {},
   "outputs": [],
   "source": []
  },
  {
   "cell_type": "code",
   "execution_count": null,
   "id": "ca2508c1-a505-4c50-9466-d13c6786e5e4",
   "metadata": {},
   "outputs": [],
   "source": []
  },
  {
   "cell_type": "code",
   "execution_count": null,
   "id": "d7a33d37-36ce-4786-b1db-40e9d21392b8",
   "metadata": {},
   "outputs": [],
   "source": []
  },
  {
   "cell_type": "code",
   "execution_count": null,
   "id": "3a91f944-798c-41a0-b9dc-c188cc55c99d",
   "metadata": {},
   "outputs": [],
   "source": []
  },
  {
   "cell_type": "code",
   "execution_count": null,
   "id": "3fe83f54-ecb0-453e-8a06-ee60972b53ed",
   "metadata": {},
   "outputs": [],
   "source": []
  },
  {
   "cell_type": "code",
   "execution_count": null,
   "id": "3d69ccc2-5cc2-4c9a-83b9-dc7e89c708a1",
   "metadata": {},
   "outputs": [],
   "source": []
  },
  {
   "cell_type": "code",
   "execution_count": null,
   "id": "5cbd3b25-6f8b-41d8-a0de-9617aa9e0611",
   "metadata": {},
   "outputs": [],
   "source": []
  },
  {
   "cell_type": "code",
   "execution_count": null,
   "id": "13410300-dc41-4032-be1a-17233d019c0f",
   "metadata": {},
   "outputs": [],
   "source": []
  },
  {
   "cell_type": "code",
   "execution_count": null,
   "id": "e1061a1e-1341-4856-a8b1-a85fc0b0931d",
   "metadata": {},
   "outputs": [],
   "source": []
  },
  {
   "cell_type": "code",
   "execution_count": null,
   "id": "265b001b-6ac1-469a-bb81-7a563075affc",
   "metadata": {},
   "outputs": [],
   "source": []
  },
  {
   "cell_type": "code",
   "execution_count": null,
   "id": "acad6b8f-dbd1-40c3-8e97-3ca3defd6781",
   "metadata": {},
   "outputs": [],
   "source": []
  },
  {
   "cell_type": "code",
   "execution_count": null,
   "id": "22cf1207-0a63-46ae-82be-70c4af739d54",
   "metadata": {},
   "outputs": [],
   "source": []
  },
  {
   "cell_type": "code",
   "execution_count": null,
   "id": "9b70c890-fff9-4a22-a4a3-311c26ef28d1",
   "metadata": {},
   "outputs": [],
   "source": []
  },
  {
   "cell_type": "code",
   "execution_count": null,
   "id": "04b12565-fd43-492c-93bf-3ba1dd932ebd",
   "metadata": {},
   "outputs": [],
   "source": []
  },
  {
   "cell_type": "code",
   "execution_count": null,
   "id": "45acac1a-6efc-4f25-9a23-44b2cf546f6c",
   "metadata": {},
   "outputs": [],
   "source": []
  },
  {
   "cell_type": "code",
   "execution_count": null,
   "id": "c3a4f196-6be2-4b0c-8906-c6755fcf6ccc",
   "metadata": {},
   "outputs": [],
   "source": []
  },
  {
   "cell_type": "code",
   "execution_count": null,
   "id": "0cf01e2b-cf73-46bc-b1ff-7e8ae4843d74",
   "metadata": {},
   "outputs": [],
   "source": []
  },
  {
   "cell_type": "code",
   "execution_count": null,
   "id": "62cdde80-c973-4c29-8bb6-15f5dff9bebc",
   "metadata": {},
   "outputs": [],
   "source": []
  },
  {
   "cell_type": "code",
   "execution_count": null,
   "id": "fe6debe3-2844-48e2-b640-9f4234fd10e9",
   "metadata": {},
   "outputs": [],
   "source": []
  },
  {
   "cell_type": "code",
   "execution_count": null,
   "id": "fa6494b0-a7b8-4ec1-8268-d3d3456bee15",
   "metadata": {},
   "outputs": [],
   "source": []
  },
  {
   "cell_type": "code",
   "execution_count": null,
   "id": "3794a489-3c00-48f1-b56b-b8ce7f59564e",
   "metadata": {},
   "outputs": [],
   "source": []
  },
  {
   "cell_type": "code",
   "execution_count": null,
   "id": "58ed5939-50f6-40d8-9f0e-46eece78965a",
   "metadata": {},
   "outputs": [],
   "source": []
  },
  {
   "cell_type": "code",
   "execution_count": null,
   "id": "8eee4156-56df-4f4f-98e5-02818cce65c4",
   "metadata": {},
   "outputs": [],
   "source": []
  },
  {
   "cell_type": "code",
   "execution_count": null,
   "id": "ed954fd1-16f0-4499-a348-c00f56d64514",
   "metadata": {},
   "outputs": [],
   "source": []
  },
  {
   "cell_type": "code",
   "execution_count": null,
   "id": "344c1cfa-bb76-439c-a350-3b8a416be304",
   "metadata": {},
   "outputs": [],
   "source": []
  },
  {
   "cell_type": "code",
   "execution_count": null,
   "id": "6cfa87d0-f1d2-4f09-b9f3-61370ae8f4c3",
   "metadata": {},
   "outputs": [],
   "source": []
  },
  {
   "cell_type": "code",
   "execution_count": null,
   "id": "2e9b6ec3-7e68-46ee-8a60-bf0014dba995",
   "metadata": {},
   "outputs": [],
   "source": []
  },
  {
   "cell_type": "code",
   "execution_count": null,
   "id": "79d2b618-d85f-408f-ba89-1a7764f20722",
   "metadata": {},
   "outputs": [],
   "source": []
  },
  {
   "cell_type": "code",
   "execution_count": null,
   "id": "00d27f71-fbb9-47b5-a406-7c2a7503a2ba",
   "metadata": {},
   "outputs": [],
   "source": []
  }
 ],
 "metadata": {
  "kernelspec": {
   "display_name": "Python 3 (ipykernel)",
   "language": "python",
   "name": "python3"
  },
  "language_info": {
   "codemirror_mode": {
    "name": "ipython",
    "version": 3
   },
   "file_extension": ".py",
   "mimetype": "text/x-python",
   "name": "python",
   "nbconvert_exporter": "python",
   "pygments_lexer": "ipython3",
   "version": "3.10.12"
  }
 },
 "nbformat": 4,
 "nbformat_minor": 5
}
