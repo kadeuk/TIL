{
 "cells": [
  {
   "cell_type": "code",
   "execution_count": 45,
   "id": "92e44805-9b2e-4fcd-9c1a-6b4a32199f67",
   "metadata": {},
   "outputs": [],
   "source": [
    "import requests\n",
    "from bs4 import BeautifulSoup"
   ]
  },
  {
   "cell_type": "code",
   "execution_count": 48,
   "id": "25588b34-279c-484e-8949-5fc8cd2f7cce",
   "metadata": {},
   "outputs": [],
   "source": [
    "res = requests.get('http://v.media.daum.net/v/20170518153405933')\n",
    "soup = BeautifulSoup(res.content, 'html.parser')"
   ]
  },
  {
   "cell_type": "code",
   "execution_count": 58,
   "id": "33004c6c-3659-4cce-bb50-a68f0d339ca5",
   "metadata": {
    "collapsed": true,
    "jupyter": {
     "outputs_hidden": true
    }
   },
   "outputs": [
    {
     "ename": "NameError",
     "evalue": "name 'dmcf' is not defined",
     "output_type": "error",
     "traceback": [
      "\u001b[1;31m---------------------------------------------------------------------------\u001b[0m",
      "\u001b[1;31mNameError\u001b[0m                                 Traceback (most recent call last)",
      "Cell \u001b[1;32mIn[58], line 1\u001b[0m\n\u001b[1;32m----> 1\u001b[0m titles \u001b[38;5;241m=\u001b[39m soup\u001b[38;5;241m.\u001b[39mfind_all(\u001b[38;5;124m'\u001b[39m\u001b[38;5;124mp\u001b[39m\u001b[38;5;124m'\u001b[39m, \u001b[43mdmcf\u001b[49m\u001b[38;5;241m-\u001b[39mpid )\n\u001b[0;32m      2\u001b[0m \u001b[38;5;28;01mfor\u001b[39;00m title \u001b[38;5;129;01min\u001b[39;00m titles:\n\u001b[0;32m      3\u001b[0m     \u001b[38;5;28mprint\u001b[39m(title\u001b[38;5;241m.\u001b[39mget_text())\n",
      "\u001b[1;31mNameError\u001b[0m: name 'dmcf' is not defined"
     ]
    }
   ],
   "source": [
    "titles = soup.find_all('p',  )\n",
    "for title in titles:\n",
    "    print(title.get_text())"
   ]
  },
  {
   "cell_type": "code",
   "execution_count": 59,
   "id": "f38b6f7f-1841-4a24-b6b4-e1fde6e5fb19",
   "metadata": {},
   "outputs": [
    {
     "name": "stdout",
     "output_type": "stream",
     "text": [
      "네이버가 최근 인공지능(AI) 비서 앱 '네이버-클로바(Clova)' 시범 버전을 공개했다. 업계 예상보다 한두달 이른 출시다. 네이버와 자회사 라인이 공동 개발한 오감형 AI 플랫폼 '클로바(Clova)'가 처음 적용됐다. 네이버가 그동안 축적한 음성인식, 번역, 추천 등 다양한 AI 기술이 활용됐다.\n",
      "풍부한 한글 콘텐츠와 데이터(DB)를 활용한 게 강점이다. 이용자 만족도는 얼마나 양질의 DB를 보유했는지, 얼마나 연계가 긴밀한지에 따라 결정된다. 음성은 한국어 영어를 막론하고 잘 인식했다.\n",
      "'빅스비' '시리' 등 다른 AI 비서 서비스와 비교해 보니 한국어 이용자 의도에 가장 부합하는 결과를 제공했다. 클로바는 '최신 영화를 추천해 줘'라는 질문에 현재 극장에서 개봉 중인 영화를 보여줬다. 빅스비와 시리가 '공부를 더 해야겠어요' '토픽으로는 검색할 수 없어요' 등 모호한 대답을 한 것과 비교해 만족도가 높았다.\n",
      "'라라랜드 출연자가 누구야'라고 물으니 출연진을 모두 열거했다. 반면 다른 AI 비서는 응답하지 못했다. 검색 서비스 사업자의 강점이 잘 드러난다. 야구 결과를 물으면 한국 프로야구 결과를 우선 보여주는 것도 '한국화' 된 서비스라는 점이 느껴졌다. 다른 AI 비서가 기기 기반인 경우가 많은 반면 앱 기반이라 접근성이 높다는 점도 장점이다.\n",
      "3월 출시된 AI 대화형 엔진 '네이버아이(i)'와 차이점을 알기 위해 비교해 봤다. 클로바는 네이버i를 포함해 다양한 AI 알고리즘이 적용됐다. 네이버i가 검색 결과를 잘 제공하는 데 초점을 맞춘 반면 네이버-클로바는 스스로 판단하는 능력이 강화됐다. 80년대 여가수 음악을 들려달라고 주문하니 스스로 판단해 김완선의 '이젠 잊기로 해요'를 재생한다. 더욱 다양한 용도로 활용되기 적합하다.\n",
      "네이버i도 장소를 묻거나 음악을 들려 달라고 하면 해당 앱을 실행하는 '행동력'을 보여줬다. 클로바는 실행력이 더욱 강화됐다. 앱 자체에서 지하철, 자동차 등 교통수단에 따른 경로까지 바로 보여준다. '7시간 뒤에 깨워줘'라는 명령을 내리면 바로 알람 타이머가 시작된다.\n",
      "파파고 운영으로 쌓은 번역 능력도 특징이다. '학교 가기 싫어가 일본어로 뭐야'라고 물었더니 정확하게 번역해 답변해준다. '영어 공부하자'고 말하면 '영어 스피킹을 시작합니다'라고 안내하며 영어로 대화를 나누게 됐다. 아직 다양한 주제를 놓고 자연스러운 대화를 나누기는 힘들다. 향후 고도화가 필요한 부분이다.\n",
      "네이버-클로바는 시범 버전인 만큼 향후 개선이 기대되는 앱이다. 네이버i와 비교해 더욱 개선된 기능이 돋보인다. 사용을 많이 할수록 품질도 개선된다. 스스로 학습하기 때문에 이용자가 쓰는 만큼 개인 맞춤형 기능이 정교해진다.\n",
      "글로벌 성공을 목표로 하지만 역시 가장 경쟁력을 가진 곳은 한국이다. 보유한 데이터 경쟁력이 돋보였다. 모의고사를 무사히 마치고 올해 여름 공개되는 AI 스피커 '웨이브'에서 어떤 개선점을 보여줄지 기대된다.\n",
      "한줄평: 쑥쑥 크는 네이버 AI 현주소\n",
      "오대석기자 ods@etnews.com\n"
     ]
    }
   ],
   "source": [
    "titles = soup.find_all('p', {'dmcf-pid': True})\n",
    "for title in titles:\n",
    "    print(title.get_text())\n"
   ]
  },
  {
   "cell_type": "code",
   "execution_count": null,
   "id": "18780091-f058-45ff-a822-68669bc3244a",
   "metadata": {},
   "outputs": [],
   "source": []
  },
  {
   "cell_type": "code",
   "execution_count": null,
   "id": "57c7509d-f540-457e-8372-4283b5a594b1",
   "metadata": {},
   "outputs": [],
   "source": []
  },
  {
   "cell_type": "code",
   "execution_count": null,
   "id": "8b4b4a2c-734e-4ab7-81c1-4194821d5da3",
   "metadata": {},
   "outputs": [],
   "source": []
  },
  {
   "cell_type": "code",
   "execution_count": null,
   "id": "bca7b6f3-1496-4be5-88ac-8aed6cf5ddad",
   "metadata": {},
   "outputs": [],
   "source": []
  },
  {
   "cell_type": "code",
   "execution_count": null,
   "id": "ed3df4ae-f048-4f10-9fdd-7d9990a8e2f3",
   "metadata": {},
   "outputs": [],
   "source": []
  },
  {
   "cell_type": "code",
   "execution_count": null,
   "id": "33f1d373-9ea8-42df-8bcb-125dfeced106",
   "metadata": {},
   "outputs": [],
   "source": []
  },
  {
   "cell_type": "code",
   "execution_count": null,
   "id": "05cbe9b5-d690-4790-a3c3-75402a5bb45a",
   "metadata": {},
   "outputs": [],
   "source": []
  },
  {
   "cell_type": "code",
   "execution_count": null,
   "id": "a1594ddd-0ae9-4977-a1bc-7d2f935cc425",
   "metadata": {},
   "outputs": [],
   "source": []
  },
  {
   "cell_type": "code",
   "execution_count": null,
   "id": "965d0fac-f0c3-4e9b-96b2-80d180e01823",
   "metadata": {},
   "outputs": [],
   "source": []
  },
  {
   "cell_type": "code",
   "execution_count": null,
   "id": "df1846ce-71fc-48d6-be90-802d3118ca4c",
   "metadata": {},
   "outputs": [],
   "source": []
  },
  {
   "cell_type": "code",
   "execution_count": null,
   "id": "73ee5afe-348d-4288-977e-2df95c14f665",
   "metadata": {},
   "outputs": [],
   "source": []
  },
  {
   "cell_type": "code",
   "execution_count": null,
   "id": "b41a8c4f-8471-4ca0-93d4-cc8091e4dbe0",
   "metadata": {},
   "outputs": [],
   "source": []
  },
  {
   "cell_type": "code",
   "execution_count": null,
   "id": "41ffe790-64f9-465b-87ec-8f211e458643",
   "metadata": {},
   "outputs": [],
   "source": []
  },
  {
   "cell_type": "code",
   "execution_count": null,
   "id": "7205c83a-9cd9-4552-9bf0-ffb6f4817b01",
   "metadata": {},
   "outputs": [],
   "source": []
  },
  {
   "cell_type": "code",
   "execution_count": null,
   "id": "d2a8afb0-7498-426c-96cf-ccb913386cf2",
   "metadata": {},
   "outputs": [],
   "source": []
  },
  {
   "cell_type": "code",
   "execution_count": null,
   "id": "e752bce5-83c9-4b6d-90c8-3c5a3faed57c",
   "metadata": {},
   "outputs": [],
   "source": []
  },
  {
   "cell_type": "code",
   "execution_count": null,
   "id": "f13acca4-1805-4617-b5ed-16014d830a0f",
   "metadata": {},
   "outputs": [],
   "source": []
  },
  {
   "cell_type": "code",
   "execution_count": null,
   "id": "1989b637-9432-4369-86c8-dd2d521a94b1",
   "metadata": {},
   "outputs": [],
   "source": []
  },
  {
   "cell_type": "code",
   "execution_count": null,
   "id": "b837ccce-d7d0-4835-b865-f08d13fedbb2",
   "metadata": {},
   "outputs": [],
   "source": []
  },
  {
   "cell_type": "code",
   "execution_count": null,
   "id": "09194987-a5ca-4318-b375-0754d21d0737",
   "metadata": {},
   "outputs": [],
   "source": []
  },
  {
   "cell_type": "code",
   "execution_count": null,
   "id": "c2fe980a-75f5-48f1-af90-cc76ac60931e",
   "metadata": {},
   "outputs": [],
   "source": []
  },
  {
   "cell_type": "code",
   "execution_count": null,
   "id": "ea53ac0c-f750-473b-8f3d-ecb22a60be01",
   "metadata": {},
   "outputs": [],
   "source": []
  },
  {
   "cell_type": "code",
   "execution_count": null,
   "id": "82e666c0-043a-465f-b8bb-b31a7eddf7ef",
   "metadata": {},
   "outputs": [],
   "source": []
  }
 ],
 "metadata": {
  "kernelspec": {
   "display_name": "Python 3 (ipykernel)",
   "language": "python",
   "name": "python3"
  },
  "language_info": {
   "codemirror_mode": {
    "name": "ipython",
    "version": 3
   },
   "file_extension": ".py",
   "mimetype": "text/x-python",
   "name": "python",
   "nbconvert_exporter": "python",
   "pygments_lexer": "ipython3",
   "version": "3.10.12"
  }
 },
 "nbformat": 4,
 "nbformat_minor": 5
}
